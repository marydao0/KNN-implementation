{
  "nbformat": 4,
  "nbformat_minor": 0,
  "metadata": {
    "colab": {
      "provenance": [],
      "collapsed_sections": []
    },
    "kernelspec": {
      "name": "python3",
      "display_name": "Python 3"
    },
    "language_info": {
      "name": "python"
    }
  },
  "cells": [
    {
      "cell_type": "code",
      "execution_count": 1,
      "metadata": {
        "id": "xUCD2PAaQV7v"
      },
      "outputs": [],
      "source": [
        "# import packages\n",
        "import numpy as np\n",
        "import pandas as pd\n",
        "from keras.datasets import mnist\n",
        "from scipy import stats\n",
        "from scipy.spatial.distance import cdist\n",
        "from time import time\n",
        "\n",
        "# load MNIST dataset\n",
        "(train_X, train_Y), (test_X, test_Y) = mnist.load_data()"
      ]
    },
    {
      "cell_type": "code",
      "source": [
        "# subset data by taking 10% of data from every label group \n",
        "sub_indices =  []\n",
        "for label in range(10):\n",
        "  curr_indices = np.argwhere(train_Y==label)  # get indices of current label\n",
        "  np.random.shuffle(curr_indices)  # shuffle indices\n",
        "  curr_indices = curr_indices[:1000]  # take 1000 of shuffled indices\n",
        "  sub_indices += curr_indices.flatten().astype(int).tolist() # add to list of all indices to include in the subset\n",
        "\n",
        "sub_X, sub_Y = train_X[sub_indices], train_Y[sub_indices]\n",
        "\n",
        "# reshape from 28x28 to flattened representation\n",
        "sub_X = sub_X.reshape(10000, 784)\n",
        "\n",
        "test_X_shaped = test_X.reshape(10000, 784)"
      ],
      "metadata": {
        "id": "G7GEzyATpVB1"
      },
      "execution_count": 2,
      "outputs": []
    },
    {
      "cell_type": "code",
      "source": [
        "# compute various distances from each point to every other point\n",
        "train_cosine = cdist(sub_X, sub_X, 'cosine')\n",
        "train_euclidean = cdist(sub_X, sub_X, 'euclidean')\n",
        "train_manhattan = cdist(sub_X, sub_X, 'cityblock')\n",
        "\n",
        "test_cosine = cdist(test_X_shaped, sub_X, 'cosine')\n",
        "test_euclidean = cdist(test_X_shaped, sub_X, 'euclidean')\n",
        "test_manhattan = cdist(test_X_shaped, sub_X, 'cityblock')"
      ],
      "metadata": {
        "id": "_JRBmYaTo0Lg"
      },
      "execution_count": 3,
      "outputs": []
    },
    {
      "cell_type": "code",
      "source": [
        "def knn(distance_matrix, train_labels, test_labels, k):\n",
        "  '''\n",
        "  Implements K nearest neighbors algorithm to predict image labels\n",
        "\n",
        "  Args:\n",
        "      distance_matrix: matrix of distances between train and test points\n",
        "      train_labels: labels for training data\n",
        "      test_labels: labels for testing data\n",
        "      k: number of neighbors to use for class prediction\n",
        "\n",
        "  Returns:\n",
        "      Class predictions for all points in the test dataset\n",
        "  '''\n",
        "  n = test_labels.shape[0]  # number of datapoints in test set\n",
        "\n",
        "  index_array = np.argpartition(distance_matrix, kth=k, axis=1)[:, :k]  # take the nearest k neighbors\n",
        "  predictions = stats.mode(train_labels[index_array], axis=1)[0].flatten()  # assign class prediction to label that occurs most often\n",
        "  accuracy = np.equal(predictions, test_labels).astype(int).sum()/n  # compute accuracy of predictions\n",
        "\n",
        "  return accuracy"
      ],
      "metadata": {
        "id": "8T4GzGmwqDoP"
      },
      "execution_count": 4,
      "outputs": []
    },
    {
      "cell_type": "code",
      "source": [
        "k = 3\n",
        "\n",
        "# for each distance measure, predict labels using KNN on both training and testing datasets and print results\n",
        "train_cosine_acc = knn(train_cosine, sub_Y, sub_Y, k)\n",
        "test_cosine_acc = knn(test_cosine, sub_Y, test_Y, k)\n",
        "print(\"Training Cosine: \", train_cosine_acc)\n",
        "print(\"Testing Cosine: \", test_cosine_acc, \"\\n\")\n",
        "\n",
        "train_euclidean_acc = knn(train_euclidean, sub_Y, sub_Y, k)\n",
        "test_euclidean_acc = knn(test_euclidean, sub_Y, test_Y, k)\n",
        "print(\"Training Euclidean: \", train_euclidean_acc)\n",
        "print(\"Testing Euclidean: \", test_euclidean_acc, \"\\n\")\n",
        "\n",
        "train_manhattan_acc = knn(train_manhattan, sub_Y, sub_Y, k)\n",
        "test_manhattan_acc = knn(test_manhattan, sub_Y, test_Y, k)\n",
        "print(\"Training Manhattan: \", train_manhattan_acc)\n",
        "print(\"Testing Manhattan: \", test_manhattan_acc)"
      ],
      "metadata": {
        "colab": {
          "base_uri": "https://localhost:8080/"
        },
        "id": "36A4eMcs6gRZ",
        "outputId": "5d7074e7-d2cd-4380-e129-338efd5404a5"
      },
      "execution_count": 5,
      "outputs": [
        {
          "output_type": "stream",
          "name": "stdout",
          "text": [
            "Training Cosine:  0.9756\n",
            "Testing Cosine:  0.9564 \n",
            "\n",
            "Training Euclidean:  0.9721\n",
            "Testing Euclidean:  0.9474 \n",
            "\n",
            "Training Manhattan:  0.9666\n",
            "Testing Manhattan:  0.9385\n"
          ]
        }
      ]
    },
    {
      "cell_type": "code",
      "source": [],
      "metadata": {
        "id": "Dd0YRuOWhU_n"
      },
      "execution_count": 5,
      "outputs": []
    }
  ]
}
